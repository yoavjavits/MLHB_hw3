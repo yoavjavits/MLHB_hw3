{
 "cells": [
  {
   "cell_type": "markdown",
   "metadata": {
    "pycharm": {
     "name": "#%% md\n"
    }
   },
   "source": [
    "# NDCG measure"
   ]
  },
  {
   "cell_type": "markdown",
   "metadata": {
    "pycharm": {
     "name": "#%% md\n"
    }
   },
   "source": [
    "ID1: 212139240\n",
    "ID2: 212617864"
   ]
  },
  {
   "cell_type": "code",
   "execution_count": 169,
   "metadata": {
    "pycharm": {
     "name": "#%%\n"
    }
   },
   "outputs": [],
   "source": [
    "import math\n",
    "\n",
    "import numpy as np"
   ]
  },
  {
   "cell_type": "code",
   "execution_count": 170,
   "metadata": {
    "pycharm": {
     "name": "#%%\n"
    }
   },
   "outputs": [],
   "source": [
    "def create_index_list(r_hat):\n",
    "    r_hat_sorted_values = sorted(np.unique(r_hat[0]))[::-1]\n",
    "\n",
    "    index_list = []\n",
    "    for value in r_hat_sorted_values:\n",
    "        index_list.append([])\n",
    "        for index in range(r_hat.shape[1]):\n",
    "            if r_hat[0][index] == value:\n",
    "                index_list[-1].append(index)\n",
    "    return index_list"
   ]
  },
  {
   "cell_type": "code",
   "execution_count": 171,
   "metadata": {
    "pycharm": {
     "name": "#%%\n"
    }
   },
   "outputs": [],
   "source": [
    "def calculate_number_of_options(index_list, k):\n",
    "    total_len = 0\n",
    "    current_list_index = 0\n",
    "    result = 1\n",
    "\n",
    "    while total_len < k:\n",
    "        if total_len + len(index_list[current_list_index]) <= k:\n",
    "            total_len += len(index_list[current_list_index])\n",
    "            result *= math.factorial(len(index_list[current_list_index]))\n",
    "            current_list_index += 1\n",
    "        else:\n",
    "            result *= math.comb(len(index_list[current_list_index]), k - total_len) * math.factorial(k - total_len)\n",
    "            break\n",
    "\n",
    "    return result"
   ]
  },
  {
   "cell_type": "code",
   "execution_count": 172,
   "metadata": {
    "pycharm": {
     "name": "#%%\n"
    }
   },
   "outputs": [],
   "source": [
    "def get_suitable_list(index_list, target_index):\n",
    "    current_index = 0\n",
    "    for l in index_list:\n",
    "        for _ in l:\n",
    "            if current_index == target_index:\n",
    "                return l\n",
    "            current_index += 1\n",
    "\n",
    "    return 'oops'"
   ]
  },
  {
   "cell_type": "code",
   "execution_count": 177,
   "metadata": {
    "pycharm": {
     "name": "#%%\n"
    }
   },
   "outputs": [],
   "source": [
    "def dcg(r, r_hat, k):\n",
    "    index_list = create_index_list(r_hat)\n",
    "    num_of_options = calculate_number_of_options(index_list, k)\n",
    "\n",
    "    dcg_score = 0\n",
    "    for i in range(k):\n",
    "        dcg_score_i = 0\n",
    "\n",
    "        l = get_suitable_list(index_list, i)\n",
    "        for index in l:\n",
    "            dcg_score_i += r[0][index] / np.log2(i+2)\n",
    "\n",
    "        coeff = num_of_options / len(l)\n",
    "        dcg_score += coeff * dcg_score_i\n",
    "\n",
    "    return dcg_score"
   ]
  },
  {
   "cell_type": "code",
   "execution_count": 174,
   "metadata": {
    "pycharm": {
     "name": "#%%\n"
    }
   },
   "outputs": [],
   "source": [
    "def my_ndcg(r, r_hat, k):\n",
    "    return dcg(r, r_hat, k) / dcg(r, r, k)"
   ]
  },
  {
   "cell_type": "code",
   "execution_count": 175,
   "metadata": {
    "pycharm": {
     "name": "#%%\n"
    }
   },
   "outputs": [
    {
     "name": "stdout",
     "output_type": "stream",
     "text": [
      "NDCG score is: 0.24684009568868806\n"
     ]
    }
   ],
   "source": [
    "# Test 1\n",
    "true_r = np.array([[10, 0, 0, 1, 5]])\n",
    "pred_score = np.array([[0.05, 1.1, 1., 0.5, 0.]])\n",
    "k = 5\n",
    "\n",
    "print('NDCG score is:', my_ndcg(true_r, pred_score, k))"
   ]
  },
  {
   "cell_type": "code",
   "execution_count": 176,
   "metadata": {
    "pycharm": {
     "name": "#%%\n"
    }
   },
   "outputs": [
    {
     "name": "stdout",
     "output_type": "stream",
     "text": [
      "NDCG score is: 1.5\n"
     ]
    }
   ],
   "source": [
    "# Test 2\n",
    "true_r = np.array([[10, 0, 0, 1, 5]])\n",
    "pred_score = np.array([[1, 0, 0, 0, 1]])\n",
    "k = 1\n",
    "\n",
    "print('NDCG score is:', my_ndcg(true_r, pred_score, k))"
   ]
  },
  {
   "cell_type": "code",
   "execution_count": null,
   "metadata": {
    "pycharm": {
     "name": "#%%\n"
    }
   },
   "outputs": [],
   "source": []
  }
 ],
 "metadata": {
  "kernelspec": {
   "display_name": "Python 3",
   "language": "python",
   "name": "python3"
  },
  "language_info": {
   "codemirror_mode": {
    "name": "ipython",
    "version": 3
   },
   "file_extension": ".py",
   "mimetype": "text/x-python",
   "name": "python",
   "nbconvert_exporter": "python",
   "pygments_lexer": "ipython3",
   "version": "3.8.3"
  }
 },
 "nbformat": 4,
 "nbformat_minor": 1
}
